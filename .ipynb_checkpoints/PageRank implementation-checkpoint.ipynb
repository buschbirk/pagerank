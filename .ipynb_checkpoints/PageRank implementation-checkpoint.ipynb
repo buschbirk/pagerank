{
 "cells": [
  {
   "cell_type": "markdown",
   "metadata": {},
   "source": [
    "# PageRank mini-project\n",
    "\n",
    "The mini-project consists of both a theoretical exercise and an implementation exercise.\n",
    "\n",
    "## Theoretical exercise"
   ]
  },
  {
   "cell_type": "markdown",
   "metadata": {},
   "source": [
    "Consider the web corresponding to the graph below. The web consists of 4 web pages with links as indicated, i.e., page 0 links to pages 1 and 2 etc.\n",
    "\n",
    "![](https://i.gyazo.com/6f46c1d56f7dd95f7cd49389d645dc93.png) \n",
    "\n",
    "\n",
    "Construct the matrix M for which the importance score vector x should be an eigenvector. The matrix M\n",
    "should depend on an unknown damping factor m. \n",
    "\n",
    "For the specific case of m = 0 write out the 4 linear equations defining the importance scores $x_0, x_1, x_2, x_3$ and solve these to derive a ranking of the pages. Of the two highest\n",
    "ranking pages, explain in words why one is considered more important than the other. "
   ]
  },
  {
   "cell_type": "markdown",
   "metadata": {},
   "source": [
    "Let's consider the matrix A where A has $\\frac{1}{n_j} $ in position (i,j) if there is a link from page *j to i* out of a total of $n_j$ links from j, and 0 otherwise. By this definition, all entries will be non-negative and all columns will sum to 1 as long as there are no dangling nodes, which is true for our web. \n",
    "\n",
    "Thus, our matrix A is column-stochastic and has an eigenvalue of 1 and an eigenvector x such that:\n",
    "\n",
    "$x = Ax$\n",
    "\n",
    "In our matrix A, each entry $A_{i,j}$ is the fraction of the importance score of $page_j$ assigned to $page_i$. \n",
    "\n",
    "We can now construct our matrix A:\n",
    "$A = \\begin{bmatrix}0 & 0 & \\frac{1}{2} & 0\\\\\\frac{1}{2} & 0 & 0 & 1\\\\\\frac{1}{2} & 1 & 0 & 0\\\\0 & 0 & \\frac{1}{2} & 0\\end{bmatrix}$ \n",
    "\n",
    "\n",
    "\n",
    "If the space of the eigenvectors with eigenvalue 1 for A is one-dimensional, x is a unique eigenvector where all importance scores are non-negative and sum to 1. In webs with multiple components, however, the space of eigenvectors for eigenvalue 1 will have dimension > 1. \n",
    "\n",
    "To prevent this, we add a damping factor m, 0 < m < 1, where m can be viewed as the probability that our PageRank algorithm will jump to a random page.\n",
    "\n",
    "We can now define the matrix M such that $x = Mx$:\n",
    "\n",
    "$M = (1-m)A + mS$  \n",
    "\n",
    "where S has the value $\\frac{1}{n} $ in all positions for n = number of nodes.\n",
    "\n",
    "\n",
    "$M = (1-m) \\begin{bmatrix}0 & 0 & \\frac{1}{2} & 0\\\\\\frac{1}{2} & 0 & 0 & 1\\\\\\frac{1}{2} & 1 & 0 & 0\\\\0 & 0 & \\frac{1}{2} & 0\\end{bmatrix} + m \\begin{bmatrix}\\frac{1}{4} & \\frac{1}{4} & \\frac{1}{4} & \\frac{1}{4}\\\\\\frac{1}{4} & \\frac{1}{4} & \\frac{1}{4} & \\frac{1}{4}\\\\\\frac{1}{4} & \\frac{1}{4} & \\frac{1}{4} & \\frac{1}{4}\\\\\\frac{1}{4} & \\frac{1}{4} & \\frac{1}{4} & \\frac{1}{4}\\end{bmatrix}$  \n",
    "\n",
    "\n",
    "For the specific case m = 0, we have: \n",
    "\n",
    "$M = (1-0) \\begin{bmatrix}0 & 0 & \\frac{1}{2} & 0\\\\\\frac{1}{2} & 0 & 0 & 1\\\\\\frac{1}{2} & 1 & 0 & 0\\\\0 & 0 & \\frac{1}{2} & 0\\end{bmatrix} + 0* \\begin{bmatrix}\\frac{1}{4} & \\frac{1}{4} & \\frac{1}{4} & \\frac{1}{4}\\\\\\frac{1}{4} & \\frac{1}{4} & \\frac{1}{4} & \\frac{1}{4}\\\\\\frac{1}{4} & \\frac{1}{4} & \\frac{1}{4} & \\frac{1}{4}\\\\\\frac{1}{4} & \\frac{1}{4} & \\frac{1}{4} & \\frac{1}{4}\\end{bmatrix} = \\begin{bmatrix}0 & 0 & \\frac{1}{2} & 0\\\\\\frac{1}{2} & 0 & 0 & 1\\\\\\frac{1}{2} & 1 & 0 & 0\\\\0 & 0 & \\frac{1}{2} & 0\\end{bmatrix} = A $  \n",
    "\n",
    "for m = 0, we can write up the system of linear equations for $𝑥=𝑀𝑥$ where each entry $x_i$ is the importance score of $page_i$  \n"
   ]
  },
  {
   "cell_type": "markdown",
   "metadata": {},
   "source": [
    "$x_0 = \\frac{1}{2} x_2 $  \n",
    "$x_1 = \\frac{1}{2} x_0 + x_3 $  \n",
    "$x_2 = \\frac{1}{2} x_0 + x_1 $  \n",
    "$x_3 = \\frac{1}{2} x_2 $  \n",
    "\n",
    "By substituting $x_0$ and $x_3$ in the equation for $x_1$ we get:  \n",
    "\n",
    "$x_0 = \\frac{1}{2} x_2 $  \n",
    "$x_1 = \\frac{1}{2} * \\frac{1}{2} x_2 + \\frac{1}{2} x_2 = \\frac{3}{4} x_2$  \n",
    "$x_2 = \\frac{1}{2} x_0 + x_1 $  \n",
    "$x_3 = \\frac{1}{2} x_2 $ \n",
    "\n",
    "for t = $\\frac{1}{2} x_0 + x_1 $ we get:  \n",
    "\n",
    "$x_0 = \\frac{1}{2} t $  \n",
    "$x_1 = \\frac{3}{4} t $  \n",
    "$x_2 = t $  \n",
    "$x_3 = \\frac{1}{2} t $  \n",
    "\n",
    "As we know that all entries in our matrix M are non-negative, we know that the term t = $\\frac{1}{2} x_0 + x_1 $ is indeed non-negative, implying that the pages with importance score defined by a higher fraction of the term t will have higher importance. This allows us to rank the pages by decreasing importance as follows: $x_2, x_1, x_0, x_3 $ \n",
    "\n",
    "For instance, $page_2$ is ranked higher than $page_1$ because the importance score $x_2 = 1 t$ and the importance score $x_1 = \\frac{3}{4} t $"
   ]
  },
  {
   "cell_type": "markdown",
   "metadata": {},
   "source": [
    "## Implementing PageRank\n",
    "\n",
    "### Random surfer\n",
    "\n",
    "The ranking of pages in the PageRank algorithm can be understood as a random surfer ranking: starting at a random page and following links at random, the pages visited more often are considered more important. \n",
    "\n",
    "Implement the random surfer directly - start at a random node and at each step:\n",
    "* with probability m move to a random other node in the web\n",
    "* with probability (1 - m) follow a random edge from the current node to another node.\n",
    "\n",
    "Register how often each node is visited by the random surfer, and print the list of the nodes\n",
    "visited most often."
   ]
  },
  {
   "cell_type": "markdown",
   "metadata": {},
   "source": [
    "We start by creating a directed graph object using python's networkX library.  \n"
   ]
  },
  {
   "cell_type": "code",
   "execution_count": 1,
   "metadata": {},
   "outputs": [
    {
     "name": "stdout",
     "output_type": "stream",
     "text": [
      "\n",
      "Importing modules...\n"
     ]
    }
   ],
   "source": [
    "print(\"\\nImporting modules...\")\n",
    "import sys\n",
    "import os\n",
    "import networkx as nx\n",
    "import numpy as np\n",
    "import random\n",
    "\n",
    "\n",
    "# Check if a valid filename was given as command-line argument\n",
    "if len(sys.argv) > 1 and os.path.exists(sys.argv[1]):\n",
    "    filename = sys.argv[1]\n",
    "# else check if Gnutella file is in current working directory\n",
    "elif os.path.exists('p2p-Gnutella08-mod.txt'):\n",
    "    filename = 'p2p-Gnutella08-mod.txt'\n",
    "else:\n",
    "    print(\"Please give graph filename as first command-line argument\\n\" +\n",
    "          \"or copy the file 'p2p-Gnutella08-mod.txt' to current working directory\")\n",
    "    exit()"
   ]
  },
  {
   "cell_type": "code",
   "execution_count": 2,
   "metadata": {},
   "outputs": [],
   "source": [
    "# function which loads an edgefile into a network G DiGraph object\n",
    "def load_graph(filename):\n",
    "    with open(filename, 'rb') as file:\n",
    "        G = nx.read_edgelist(file, create_using=nx.DiGraph())\n",
    "    return G"
   ]
  },
  {
   "cell_type": "code",
   "execution_count": 3,
   "metadata": {},
   "outputs": [
    {
     "name": "stdout",
     "output_type": "stream",
     "text": [
      "Loading graph from file: 'p2p-Gnutella08-mod.txt'... \n",
      "The graph has 6301 nodes and 20777 edges\n",
      "\n"
     ]
    }
   ],
   "source": [
    "print(\"Loading graph from file: '{}'... \".format(filename))\n",
    "G = load_graph(filename)\n",
    "print(\"The graph has {} nodes and {} edges\\n\"\n",
    "     .format(G.number_of_nodes(), G.number_of_edges()))"
   ]
  },
  {
   "cell_type": "markdown",
   "metadata": {},
   "source": [
    "Now, we will implement the random surfer algorithm.  \n",
    "For each node in our graph, we will store a count of the number of times the node has been visited by our random surfer. The count will be normalized by the total number of steps taken by the random surfer in order to output an importance score which we can compare to our PageRank algorithm."
   ]
  },
  {
   "cell_type": "code",
   "execution_count": 4,
   "metadata": {},
   "outputs": [],
   "source": [
    "def choose_random_node(node_list):\n",
    "    \"\"\"Returns the name of a random node in the given list\n",
    "    of nodes \"\"\"\n",
    "    return node_list[random.randint(0, len(node_list) - 1)]\n",
    "\n",
    "\n",
    "def random_surfer(graph, num_iterations, nodes, start_node=None, m=0.15):\n",
    "    \"\"\"Implements the random surfer algorithm.\n",
    "    graph: nx DiGraph object\n",
    "    num_iterations: number of steps taken by the random surfer\n",
    "    nodes: A list of all nodes in the graph\n",
    "    m: The 'damping' factor\n",
    "    returns mapping between node and importance score\"\"\"\n",
    "    \n",
    "    # Check if the nodes in our graph have a count attribute\n",
    "    # if not, add count attribute with count = 0 for all nodes\n",
    "    try: \n",
    "        graph.nodes[nodes[0]]['count']\n",
    "    except KeyError:\n",
    "        count = {node: 0 for node in graph.nodes()}\n",
    "        nx.set_node_attributes(graph, count, name='count')\n",
    "    \n",
    "    current_node = start_node\n",
    "    \n",
    "    for i in range(num_iterations):\n",
    "        # If there is no current node or the current node\n",
    "        # has no neighbors, choose a random node\n",
    "        if current_node == None \\\n",
    "        or len(list(nx.neighbors(graph, current_node))) == 0:\n",
    "            current_node = choose_random_node(nodes)\n",
    "            graph.nodes[current_node]['count'] += 1\n",
    "        \n",
    "        # Handle case where surfer jumps to a neighbor \n",
    "        # with probability 1 - m\n",
    "        elif random.random() > m:\n",
    "            # jump to a random neighbor of the current node\n",
    "            current_node = choose_random_node(\n",
    "                           list(nx.neighbors(graph, current_node)))\n",
    "            graph.nodes[current_node]['count'] += 1\n",
    "        \n",
    "        # handle case where surfer jumps to random node\n",
    "        else:\n",
    "            current_node = choose_random_node(nodes)\n",
    "            graph.nodes[current_node]['count'] += 1\n",
    "    \n",
    "    # Set new attribute with count normalized by the total number\n",
    "    # of steps taken by the random surfer algorithm\n",
    "    # this will be the importance score of our rand. surfer algorithm\n",
    "    node_count = nx.get_node_attributes(graph, 'count').items()\n",
    "    total_steps = np.array([count for node, count in node_count]).sum()\n",
    "    \n",
    "    imp_score = {node: count / total_steps \n",
    "                 for node, count in node_count}\n",
    "    nx.set_node_attributes(graph, imp_score, name='imp_score')\n",
    "    \n",
    "    return imp_score, current_node\n",
    "\n",
    "\n",
    "def print_top_ten(imp_score_mapping):\n",
    "    \"\"\"Takes in a mapping of nodes and importance score\n",
    "    in a dictionary and prints the top 10 nodes by imp. score\"\"\"\n",
    "    \n",
    "    # Print the top 10 nodes with highest importance score\n",
    "    print(\"Top 10 nodes by importance score (decreasing)\\n\")\n",
    "    \n",
    "    top_ten = sorted(imp_score_mapping.items(), \n",
    "                     key=lambda x: x[1], reverse=True)[:10]\n",
    "    \n",
    "    print(\"Node\\tScore\")\n",
    "    print(\"\\n\".join([str(node) + ':\\t' + str(round(score,5))\n",
    "                     for node, score in top_ten]))\n",
    "    print(\"\\nImportance scores sum: {0:.3}\"\n",
    "          .format(sum(imp_score_mapping.values())))\n",
    "    print(\"\")"
   ]
  },
  {
   "cell_type": "code",
   "execution_count": 5,
   "metadata": {},
   "outputs": [
    {
     "name": "stdout",
     "output_type": "stream",
     "text": [
      "Testing random surfer algorithm with 10000 iterations\n",
      "\n",
      "Top 10 nodes by importance score (decreasing)\n",
      "\n",
      "Node\tScore\n",
      "427:\t0.0024\n",
      "424:\t0.0021\n",
      "5:\t0.002\n",
      "127:\t0.002\n",
      "128:\t0.002\n",
      "251:\t0.002\n",
      "123:\t0.0019\n",
      "3:\t0.0018\n",
      "145:\t0.0018\n",
      "390:\t0.0018\n",
      "\n",
      "Importance scores sum: 1.0\n",
      "\n"
     ]
    }
   ],
   "source": [
    "print(\"Testing random surfer algorithm with 10000 iterations\\n\")\n",
    "# Store a list of nodes\n",
    "nodes = list(G.nodes())\n",
    "surf_mapping, _ = random_surfer(G, 10000, nodes, None, 0.15)\n",
    "print_top_ten(surf_mapping)"
   ]
  },
  {
   "cell_type": "code",
   "execution_count": 6,
   "metadata": {},
   "outputs": [],
   "source": [
    "# remove count attribute from test run\n",
    "for node in G.nodes():\n",
    "    del G.node[node]['count']"
   ]
  },
  {
   "cell_type": "markdown",
   "metadata": {},
   "source": [
    "### PageRank implementation\n",
    "\n",
    "The importance score vector should be an eigenvector for value 1 of some matrix M. You should implement an algorithm for computing an approximation of the eigenvector.\n",
    "\n",
    "\n",
    "Print a list of nodes with the highest importance scores, along with their rankings. These should be the same\n",
    "as the most visited nodes in the random surfer simulation. The importance scores of all nodes should sum to 1.\n",
    "\n",
    "Similarly to the theoretical exercise above, we define the matrix M by the following: \n",
    "\n",
    "$M = (1-m)(A+D) + mS$  \n",
    "\n",
    "* for A, each entry $A_{i,j}$ is the fraction of the importance score of $page_j$ assigned to $page_i$  \n",
    "* S has the value $\\frac{1}{n} $ in all positions for `n = number of pages` and  \n",
    "* D has 0 in position $D_{i,j}$ if there is a link out of $page_j$, else $\\frac{1}{n} $\n",
    "\n",
    "We will create three functions to compute each of the matrices A, S and D from a given graph.\n",
    "\n",
    "Each function will return the matrix as a numpy array for fast matrix multiplication using the numpy '.dot' method."
   ]
  },
  {
   "cell_type": "code",
   "execution_count": 7,
   "metadata": {},
   "outputs": [],
   "source": [
    "def create_s_matrix(graph):\n",
    "    \"\"\"Returns an n x n matrix (np array) with the value  1/𝑛  \n",
    "    in all positions for n = number of nodes\"\"\"\n",
    "    \n",
    "    num_nodes = graph.number_of_nodes()\n",
    "    # create numpy array matrix with identical values\n",
    "    s = np.full((num_nodes, num_nodes), 1 / num_nodes)\n",
    "\n",
    "    return s\n",
    "\n",
    "def create_d_matrix(graph):\n",
    "    \"\"\"Returns an n x n matrix (np array)\n",
    "    where matrix[i][j] = 0 if page j has outbound links\n",
    "    and matrix[i][j] = 1/n if page j has no outbound links\"\"\"\n",
    "    \n",
    "    nodes = graph.nodes()\n",
    "    # Define lambda function which returns 0 if node has outbound links\n",
    "    # and 1 / len(nodes) if node has no outbound links\n",
    "    d_value = lambda node: 0 if len(list(nx.neighbors(graph, node))) > 0 \\\n",
    "                           else (1 / len(nodes))\n",
    "\n",
    "    # As all rows will be identical, compute one row first\n",
    "    row = [d_value(node) for node in nodes]\n",
    "    \n",
    "    # Return a matrix with len(nodes) rows\n",
    "    return np.array([row] * len(nodes) )\n",
    "\n",
    "\n",
    "def create_a_matrix(graph):\n",
    "    \"\"\"Returns an n x n matrix (np array) \n",
    "    where matrix[i][j] is the fraction of the importance score \n",
    "    of page j assigned to page i\"\"\"\n",
    "    \n",
    "    nodes = list(graph.nodes())\n",
    "    \n",
    "    # create a list of len(nodes) empty lists\n",
    "    matrix = [[] for i in range(len(nodes))]\n",
    "    \n",
    "    # loop over each node in the graph\n",
    "    for node in nodes:\n",
    "        # extract all neighbors of the node\n",
    "        neighbors = list(nx.neighbors(graph, node))\n",
    "        # loop over all potential neighbors of the node\n",
    "        for idx, pot_neighbor in enumerate(nodes):\n",
    "            # If node links to pot_neighbor\n",
    "            # append 1 / the number of neigbors of our node\n",
    "            if pot_neighbor in neighbors:\n",
    "                matrix[idx].append(1 / len(neighbors))\n",
    "            # else, append 0\n",
    "            else:\n",
    "                matrix[idx].append(0)\n",
    "\n",
    "    return np.array(matrix)"
   ]
  },
  {
   "cell_type": "markdown",
   "metadata": {},
   "source": [
    "Now we can construct the matrix M and create a function which computes the un-optimized PageRank algorithm, given by:\n",
    "\n",
    "$x_{k+1} = Mx_k$  \n",
    "\n",
    "Where $x_k$ is the importance vector at the k'th iteration of the PageRank algorithm."
   ]
  },
  {
   "cell_type": "code",
   "execution_count": 8,
   "metadata": {},
   "outputs": [],
   "source": [
    "def run_pagerank_algorithm(graph, m_matrix, num_iterations):\n",
    "    \"\"\"Runs the un-optimized PageRank algorithm with \n",
    "    num_iterations updates. \n",
    "    Returns a mappping of nodes and importance scores\"\"\"\n",
    "    \n",
    "    # Initialize the importance score with \n",
    "    # equal valus for all pages\n",
    "    nodes = list(graph.nodes())\n",
    "    imp_vector = np.array([1/len(nodes)] * len(nodes))\n",
    "    \n",
    "    # update importance score vector num_iteration times\n",
    "    for i in range(num_iterations):\n",
    "        # update the importance score vector\n",
    "        imp_vector = m_matrix.dot(imp_vector)\n",
    "    \n",
    "    # create mapping between the imp_score vector and nodes\n",
    "    pr_score = {nodes[idx]: pr_score for idx, pr_score in enumerate(imp_vector)}\n",
    "    nx.set_node_attributes(graph, pr_score, name='pr_score')\n",
    "    \n",
    "    return nx.get_node_attributes(graph, 'pr_score')"
   ]
  },
  {
   "cell_type": "code",
   "execution_count": 9,
   "metadata": {},
   "outputs": [
    {
     "name": "stdout",
     "output_type": "stream",
     "text": [
      "Computing the matrices S, D and A for the PageRank algorithm\n",
      "Computing the matrix M used for the un-optimized PageRank algorithm\n"
     ]
    }
   ],
   "source": [
    "print(\"Computing the matrices S, D and A for the PageRank algorithm\")\n",
    "s_matrix = create_s_matrix(G)\n",
    "d_matrix = create_d_matrix(G)\n",
    "a_matrix = create_a_matrix(G)\n",
    "print(\"Computing the matrix M used for the un-optimized PageRank algorithm\")\n",
    "m = 0.15\n",
    "M = (1-m) * (a_matrix + d_matrix) + m * s_matrix"
   ]
  },
  {
   "cell_type": "code",
   "execution_count": 10,
   "metadata": {
    "scrolled": true
   },
   "outputs": [
    {
     "name": "stdout",
     "output_type": "stream",
     "text": [
      "Running un-optimized PageRank algorithm with 200 iterations...\n",
      "\n",
      "Top 10 nodes by importance score (decreasing)\n",
      "\n",
      "Node\tScore\n",
      "367:\t0.00239\n",
      "249:\t0.00218\n",
      "145:\t0.00206\n",
      "264:\t0.002\n",
      "266:\t0.00196\n",
      "123:\t0.00186\n",
      "127:\t0.00186\n",
      "122:\t0.00185\n",
      "1317:\t0.00184\n",
      "5:\t0.00183\n",
      "\n",
      "Importance scores sum: 1.0\n",
      "\n",
      "Runtime: 3.25 seconds\n",
      "\n"
     ]
    }
   ],
   "source": [
    "import time\n",
    "print(\"Running un-optimized PageRank algorithm with 200 iterations...\\n\")\n",
    "start = time.time()\n",
    "pr_mapping = run_pagerank_algorithm(G, M, 200)\n",
    "print_top_ten(pr_mapping)\n",
    "print(\"Runtime: {:.2f} seconds\\n\".format(time.time() - start))"
   ]
  },
  {
   "cell_type": "markdown",
   "metadata": {},
   "source": [
    "### Optimized PageRank algorithm\n",
    "\n",
    "Computing $x_{k+1} = Mx_k$ will be computationally demanding as the size of our web grows.\n",
    "More specifically, the computation $Mx_k$ requires $n^3$ multiplications.  \n",
    "\n",
    "We can optimize this computation by computing the following instead:\n",
    "\n",
    "$ x_{k+1} = (1-m)Ax_{k} + (1-m)Dx_{k} + mSx_{k} $\n"
   ]
  },
  {
   "cell_type": "markdown",
   "metadata": {},
   "source": [
    "$ (1-m)Ax_{k} $ still requires $n^3$ multiplications, but since the A matrix is sparse, the multiplications are much less computationally demanding.  \n",
    "\n",
    "For $ (1-m)Dx_{k} $ it is sufficient to make the multiplication of the importance score vector onto only 1 of D's rows, since the rows of D are identical.\n",
    "\n",
    "For $mSx_{k} $ since all entries in S have the value $1/n$ and the sum of the values in our importance vector is 1 for all k, the calculation $ Sx_k $ will always yield a vector of length n with all values being $1/n$. This means it will be sufficient to compute this vector once outside the loop of our algorithm.  \n",
    "\n",
    "To make use of the fact that the A matrix is sparse, we will import a sparse-matrix class from scipy and convert our A matrix to a sparse matrix object, which is optimized for computations with sparse matrices."
   ]
  },
  {
   "cell_type": "code",
   "execution_count": 11,
   "metadata": {},
   "outputs": [],
   "source": [
    "from scipy.sparse import csr_matrix #sparse matrix class\n",
    "\n",
    "def run_optimized_pagerank_algorithm(graph, num_iterations, \n",
    "                                     s_matrix, d_matrix, a_matrix,\n",
    "                                     m=0.15):\n",
    "    \"\"\"\n",
    "    Runs the optimized PageRank algorithm with num_iterations updates\n",
    "    of the importance vector.\n",
    "    Returns a mapping between nodes and importance score\n",
    "    \"\"\"\n",
    "    \n",
    "    # Convert A to sparse matrix\n",
    "    a_sparse = csr_matrix(a_matrix)\n",
    "    \n",
    "    # Initialize the importance score with \n",
    "    # equal valus for all pages\n",
    "    nodes = list(graph.nodes())\n",
    "    imp_vector = np.array([1/len(nodes)] * len(nodes))\n",
    "    \n",
    "    # exctract one row from D\n",
    "    d_row = d_matrix[0]\n",
    "    \n",
    "    # compute the component m * S * imp_vector once\n",
    "    s_component = m * s_matrix.dot(imp_vector)\n",
    "    \n",
    "    # update imp_vector num_iteration times\n",
    "    for i in range(num_iterations):\n",
    "        # compute the component containing the D matrix\n",
    "        d_component = (1 - m) * np.full(len(nodes), d_row.dot(imp_vector))\n",
    "        # update the importance vector\n",
    "        imp_vector = (1 - m) * a_sparse.dot(imp_vector) + d_component + s_component\n",
    "\n",
    "    # create mapping between the imp_score vector and nodes\n",
    "    pr_score = {nodes[idx]: pr_score for idx, pr_score in enumerate(imp_vector)}\n",
    "    nx.set_node_attributes(graph, pr_score, name='pr_score')\n",
    "    \n",
    "    return nx.get_node_attributes(graph, 'pr_score')"
   ]
  },
  {
   "cell_type": "code",
   "execution_count": 12,
   "metadata": {},
   "outputs": [
    {
     "name": "stdout",
     "output_type": "stream",
     "text": [
      "Running optimized PageRank algorithm with 200 iterations...\n",
      "\n",
      "Top 10 nodes by importance score (decreasing)\n",
      "\n",
      "Node\tScore\n",
      "367:\t0.00239\n",
      "249:\t0.00218\n",
      "145:\t0.00206\n",
      "264:\t0.002\n",
      "266:\t0.00196\n",
      "123:\t0.00186\n",
      "127:\t0.00186\n",
      "122:\t0.00185\n",
      "1317:\t0.00184\n",
      "5:\t0.00183\n",
      "\n",
      "Importance scores sum: 1.0\n",
      "\n",
      "Runtime: 0.36 seconds\n",
      "\n"
     ]
    }
   ],
   "source": [
    "print(\"Running optimized PageRank algorithm with 200 iterations...\\n\")\n",
    "start = time.time()\n",
    "pr_opt_mapping = run_optimized_pagerank_algorithm(G, 200, s_matrix, d_matrix, a_matrix, 0.15)\n",
    "print_top_ten(pr_opt_mapping)\n",
    "print(\"Runtime: {:.2f} seconds\\n\".format(time.time() - start))"
   ]
  },
  {
   "cell_type": "markdown",
   "metadata": {},
   "source": [
    "These results will vary depending on the machine running the algorithm, but on my machine the un-optimized PageRank algorithm is approximately 5 times slower than the optimized algorithm at 200 iterations on the Gnutella graph. (2.6 seconds vs. 0.47 seconds)"
   ]
  },
  {
   "cell_type": "markdown",
   "metadata": {},
   "source": [
    "### Examining conversion limits\n",
    "\n",
    "Now that we have implemented our PageRank algorithm, we can test our algorithms for the number of iterations required for conversion.\n",
    "\n",
    "We will test two conversion limits:  \n",
    "1) The iteration at which the top 10 nodes converge  \n",
    "2) The iteration at which the summed error over all nodes is under a set threshold  \n",
    "\n",
    "We will test the convergence against the results of our PageRank algorithm at 200 iterations"
   ]
  },
  {
   "cell_type": "code",
   "execution_count": 13,
   "metadata": {},
   "outputs": [],
   "source": [
    "def get_top_ten(imp_score_mapping):\n",
    "    \"\"\"Returns a list of the top 10 nodes from a mapping\n",
    "    between nodes and importance score\"\"\"\n",
    "\n",
    "    top_ten = sorted(imp_score_mapping.items(), \n",
    "                     key=lambda x: x[1], reverse=True)[:10]\n",
    "    \n",
    "    return [entry[0] for entry in top_ten]\n",
    "\n",
    "\n",
    "def pagerankConversion(converged_mapping, summed_error_limit=0.00000001):\n",
    "    \"\"\"Tests the conversion limit of the PageRank algorithm.\n",
    "    tests for convergence of the top 10 nodes\n",
    "    and tests for convergence by sum of errors since previous iteration \n",
    "    over all nodes\"\"\"\n",
    "    \n",
    "    # save summed errors for plotting\n",
    "    summed_errors = []\n",
    "    \n",
    "    # store the converged top 10\n",
    "    conv_top_ten = get_top_ten(converged_mapping)\n",
    "    \n",
    "    top_ten_convergence = None\n",
    "    summed_error_convergence = None\n",
    "    iteration_num = 0\n",
    "    \n",
    "    # Compute PageRank scores until the algorithm converges \n",
    "    # by top ten and summed error\n",
    "    while top_ten_convergence is None or summed_error_convergence is None:\n",
    "        \n",
    "        iteration_num += 1\n",
    "        # run PageRank algorithm with current iteration_num iterations\n",
    "        mapping = run_optimized_pagerank_algorithm(G, iteration_num, \n",
    "                                                   s_matrix, d_matrix,\n",
    "                                                   a_matrix, 0.15)\n",
    "        \n",
    "        # Use absolute values when computing summed error\n",
    "        differences = np.absolute(np.array(list(converged_mapping.values())) \n",
    "                                  - np.array(list(mapping.values())))\n",
    "        \n",
    "        # Add summed error to list for plotting\n",
    "        summed_errors.append(differences.sum())\n",
    "        \n",
    "        # test if top ten converged\n",
    "        if conv_top_ten == get_top_ten(mapping) and top_ten_convergence == None:\n",
    "            top_ten_convergence = iteration_num\n",
    "        \n",
    "        # test for summed error convergence\n",
    "        if differences[-1] < summed_error_limit:\n",
    "            summed_error_convergence = iteration_num\n",
    "    \n",
    "    return top_ten_convergence, summed_error_convergence, \\\n",
    "           summed_errors, mapping"
   ]
  },
  {
   "cell_type": "code",
   "execution_count": 14,
   "metadata": {},
   "outputs": [
    {
     "name": "stdout",
     "output_type": "stream",
     "text": [
      "Testing convergence limit for PageRank algorithm...\n"
     ]
    }
   ],
   "source": [
    "print(\"Testing convergence limit for PageRank algorithm...\")\n",
    "summed_error_limit_high = 0.02\n",
    "pr_top_ten_conv_high, pr_summed_error_conv_high, _, __ \\\n",
    "= pagerankConversion(pr_opt_mapping, summed_error_limit_high)\n",
    "\n",
    "\n",
    "# test again with lower value for upper limit\n",
    "summed_error_limit_low = 0.00000001\n",
    "pr_top_ten_conv_low, pr_summed_error_conv_low, summed_errors, pr_converged_mapping \\\n",
    "= pagerankConversion(pr_opt_mapping, summed_error_limit_low)"
   ]
  },
  {
   "cell_type": "code",
   "execution_count": 18,
   "metadata": {},
   "outputs": [
    {
     "name": "stdout",
     "output_type": "stream",
     "text": [
      "Plotting convergence graph\n",
      "Close graph window to continue \n",
      "\n",
      "\n"
     ]
    },
    {
     "data": {
      "image/png": "[encoded data removed]",
      "text/plain": [
       "<matplotlib.figure.Figure at 0x1df93ccaf60>"
      ]
     },
     "metadata": {},
     "output_type": "display_data"
    }
   ],
   "source": [
    "# plot convergence graph for PageRank algorithm\n",
    "from matplotlib import pyplot as plt\n",
    "plt.style.use('fivethirtyeight')\n",
    "\n",
    "print(\"Plotting convergence graph\")\n",
    "print(\"Close graph window to continue \\n\\n\")\n",
    "    \n",
    "plt.figure(figsize=(12,10))\n",
    "plt.title('Convergence graph for the PageRank algorithm')\n",
    "plt.xlabel('Iteration #')\n",
    "plt.ylabel('Summed error')\n",
    "plt.plot(range(1,len(summed_errors) + 1), summed_errors)\n",
    "plt.show()"
   ]
  },
  {
   "cell_type": "markdown",
   "metadata": {},
   "source": [
    "Now, we will compute the convergence limit of the random surfer algorithm.  \n",
    "Once again, we will test for convergence of the top 10 nodes as well as the summed error against the values of the PageRank algorithm at 200 iterations.   \n",
    "\n",
    "Since we can expect that the change in importance score will be very small between iteration k and k+1 for this algorithm, we will initiate the algorithm with 5 mil. iterations and test the top ten nodes and importance score error at every 10000'th iteration of the algorithm.  \n",
    "\n",
    "After running this convergence test a number of times, I have found that the top 10 nodes can converge anywhere between 5 mil and 30 mil.+ iterations. For the sake of runtime, we will end the test if the top 10 has not converged after 20 mil. iterations."
   ]
  },
  {
   "cell_type": "code",
   "execution_count": 19,
   "metadata": {},
   "outputs": [],
   "source": [
    "def randomsurferConvergence(converged_mapping,\n",
    "                            initial_iteration=5000000, \n",
    "                            iteration_steps=10000,\n",
    "                            summed_error_limit=0.02,\n",
    "                            print_status=False):\n",
    "    \n",
    "    \"\"\"Tests the convergence limit for top ten nodes and\n",
    "    summed error for the random surfer algorithm compared \n",
    "    to the results of the converged PageRank algorithm\"\"\"\n",
    "    \n",
    "    # store converged top ten\n",
    "    conv_top_ten = get_top_ten(pr_opt_mapping)\n",
    "    \n",
    "    # store list of errors at every iteration\n",
    "    surfer_errors = []\n",
    "    surfer_iterations = []\n",
    "\n",
    "    print(\"Testing convergence limit for random surfer algorithm...\")\n",
    "    print(\"Initializing with {} iterations\".format(initial_iteration))\n",
    "    top_ten_surfer_conv = None\n",
    "    surfer_error_conv = None\n",
    "    \n",
    "    nodes = list(G.nodes())\n",
    "\n",
    "    # Run baseline iterations of random surfer algorithm\n",
    "    _, current_node = random_surfer(G, initial_iteration, nodes, None, m)\n",
    "    current_iteration = initial_iteration\n",
    "    \n",
    "    print(\"Beginning convergence test with iterations of size {}\"\n",
    "         .format(iteration_steps))\n",
    "    \n",
    "    while surfer_error_conv is None or top_ten_surfer_conv is None:\n",
    "        \n",
    "        if print_status:\n",
    "            print(\"Finished iteration number: \", str(current_iteration), end=\"\", flush=True)\n",
    "            print(\"\\r\", end=\"\", flush=True)\n",
    "        \n",
    "        # run iteration_steps number of iterations and update the current node\n",
    "        mapping, current_node = random_surfer(G, iteration_steps, nodes, current_node, m)\n",
    "        \n",
    "        # compute and store summed error\n",
    "        sum_error = np.absolute(np.array(list(converged_mapping.values())) \n",
    "                                - np.array(list(mapping.values())))    \n",
    "        surfer_errors.append(sum_error.sum())\n",
    "        \n",
    "        # update current number of iterations\n",
    "        current_iteration += iteration_steps\n",
    "        surfer_iterations.append(current_iteration)\n",
    "        \n",
    "        # test if top ten converged\n",
    "        if conv_top_ten == get_top_ten(mapping) and top_ten_surfer_conv == None:\n",
    "            top_ten_surfer_conv = current_iteration\n",
    "\n",
    "        # test for summed error convergence\n",
    "        if surfer_errors[-1] < summed_error_limit and surfer_error_conv == None:\n",
    "            surfer_error_conv = current_iteration\n",
    "            \n",
    "        # break loop if current iteration > 20 mil \n",
    "        if current_iteration >= 20000000:\n",
    "            break\n",
    "        \n",
    "    return top_ten_surfer_conv, surfer_error_conv, surfer_errors, surfer_iterations, mapping"
   ]
  },
  {
   "cell_type": "code",
   "execution_count": 20,
   "metadata": {},
   "outputs": [
    {
     "name": "stdout",
     "output_type": "stream",
     "text": [
      "Testing convergence limit for random surfer algorithm...\n",
      "Initializing with 5000000 iterations\n",
      "Beginning convergence test with iterations of size 10000\n"
     ]
    }
   ],
   "source": [
    "# Run convergence test\n",
    "top_ten_surfer_conv, surfer_error_conv, surfer_errors, \\\n",
    "surfer_iterations, surfer_mapping = randomsurferConvergence(pr_opt_mapping,\n",
    "                                                            initial_iteration=5000000, \n",
    "                                                            iteration_steps=10000,\n",
    "                                                            summed_error_limit=0.02,\n",
    "                                                            print_status=False)"
   ]
  },
  {
   "cell_type": "code",
   "execution_count": 21,
   "metadata": {},
   "outputs": [
    {
     "name": "stdout",
     "output_type": "stream",
     "text": [
      "Plotting convergence graph for random surfer algorithm\n",
      "close graph window to continue \n",
      "\n",
      "\n"
     ]
    },
    {
     "data": {
      "image/png": "[encoded data removed]",
      "text/plain": [
       "<matplotlib.figure.Figure at 0x1df93db4860>"
      ]
     },
     "metadata": {},
     "output_type": "display_data"
    }
   ],
   "source": [
    "print(\"Plotting convergence graph for random surfer algorithm\")\n",
    "print(\"close graph window to continue \\n\\n\")\n",
    "plt.figure(figsize=(12,10))\n",
    "plt.title('Convergence graph for the Random Surfer algorithm')\n",
    "plt.xlabel('Number of iterations')\n",
    "plt.ylabel('Summed error')\n",
    "plt.plot(surfer_iterations, surfer_errors)\n",
    "plt.show()"
   ]
  },
  {
   "cell_type": "markdown",
   "metadata": {},
   "source": [
    "Now, we will print the top nodes and their importance score for the PageRank algorithm and the random surfer algorithm"
   ]
  },
  {
   "cell_type": "code",
   "execution_count": 25,
   "metadata": {},
   "outputs": [
    {
     "name": "stdout",
     "output_type": "stream",
     "text": [
      "Printing final results of PageRank and random surfer algorithms...\n",
      "\n",
      "Top 10 importance scores from PageRank algorithm:\n",
      "Top 10 nodes by importance score (decreasing)\n",
      "\n",
      "Node\tScore\n",
      "367:\t0.00239\n",
      "249:\t0.00218\n",
      "145:\t0.00205\n",
      "264:\t0.002\n",
      "266:\t0.00196\n",
      "123:\t0.00186\n",
      "127:\t0.00186\n",
      "122:\t0.00185\n",
      "1317:\t0.00184\n",
      "5:\t0.00183\n",
      "\n",
      "Importance scores sum: 1.0\n",
      "\n",
      "\n",
      "Top 10 importance scores from random surfer algorithm:\n",
      "Top 10 nodes by importance score (decreasing)\n",
      "\n",
      "Node\tScore\n",
      "367:\t0.00238\n",
      "249:\t0.00218\n",
      "145:\t0.00204\n",
      "264:\t0.002\n",
      "266:\t0.00196\n",
      "123:\t0.00188\n",
      "127:\t0.00187\n",
      "122:\t0.00185\n",
      "1317:\t0.00185\n",
      "5:\t0.00183\n",
      "\n",
      "Importance scores sum: 1.0\n",
      "\n"
     ]
    }
   ],
   "source": [
    "print(\"Printing final results of PageRank and random surfer algorithms...\\n\")\n",
    "\n",
    "print(\"Top 10 importance scores from PageRank algorithm:\")\n",
    "print_top_ten(pr_converged_mapping)\n",
    "print(\"\")\n",
    "\n",
    "print(\"Top 10 importance scores from random surfer algorithm:\")\n",
    "print_top_ten(surfer_mapping)"
   ]
  },
  {
   "cell_type": "code",
   "execution_count": 26,
   "metadata": {},
   "outputs": [
    {
     "name": "stdout",
     "output_type": "stream",
     "text": [
      "Convergence limits for the PageRank algorithm:\n",
      "Top 10 nodes by importance score converged after 4 iterations\n",
      "The summed error over all nodes converged with an upper limit of 0.02 after 4 iterations\n",
      "The summed error over all nodes converged with an upper limit of 1e-08 after 7 iterations\n",
      "\n"
     ]
    }
   ],
   "source": [
    "# Print convergence limits for PageRank algorithm\n",
    "pr_top_ten_conv_low, pr_summed_error_conv_low\n",
    "\n",
    "print(\"Convergence limits for the PageRank algorithm:\")\n",
    "print(\"Top 10 nodes by importance score converged after {} iterations\"\n",
    "      .format(pr_top_ten_conv_low))\n",
    "print(\"The summed error over all nodes converged\" +\\\n",
    "     \" with an upper limit of {} after {} iterations\"\n",
    "      .format(summed_error_limit_high, pr_summed_error_conv_high))\n",
    "\n",
    "print(\"The summed error over all nodes converged\" +\\\n",
    "     \" with an upper limit of {} after {} iterations\\n\"\n",
    "      .format(summed_error_limit_low, pr_summed_error_conv_low))"
   ]
  },
  {
   "cell_type": "code",
   "execution_count": 27,
   "metadata": {},
   "outputs": [
    {
     "name": "stdout",
     "output_type": "stream",
     "text": [
      "Convergence limits for the random surfer algorithm:\n",
      "Top 10 nodes by importance score converged after 14860000 iterations\n",
      "The summed error over all nodes converged with an upper limit of 0.02 after 5010000 iterations\n",
      "\n"
     ]
    }
   ],
   "source": [
    "# print convergence limits for random surfer algorithm\n",
    "print(\"Convergence limits for the random surfer algorithm:\")\n",
    "if top_ten_surfer_conv is None:\n",
    "    print(\"Top ten nodes did not converge within 20 mil. iterations\")\n",
    "else:\n",
    "    print(\"Top 10 nodes by importance score converged after {} iterations\"\n",
    "          .format(top_ten_surfer_conv))\n",
    "\n",
    "print(\"The summed error over all nodes converged\" +\\\n",
    "     \" with an upper limit of {} after {} iterations\\n\"\n",
    "      .format(0.02, surfer_error_conv))"
   ]
  },
  {
   "cell_type": "markdown",
   "metadata": {},
   "source": [
    "## Computing PageRank on large graph\n",
    "\n",
    "We have seen that the current optimized PageRank algorithm runs very quickly, even at a large number of iterations (200 iterations at 0.4 seconds for the Gnutella graph).  \n",
    "\n",
    "In case we could store the same matrix representation of the large randomly generated graph (which contains 200.000 nodes), this algorithm is not limited by the size of the graph.  \n",
    "\n",
    "It turns out, however, that a computer with 16 gb of RAM cannot store a numpy matrix of size 200.000 x 200.000 in memory.  \n",
    "\n",
    "Thus, in order to compute the importance scores of the large graph, we will have to change the internal representations of the matrices used in the PageRank algorithm.  \n",
    "\n",
    "Fortunately, we know that it is sufficient to store only a single row for the matrices D and S, as all rows of these matrices are identical.  \n",
    "\n",
    "For the sparse matrix A, we know that most entries have the value 0. In order to save memory, we can create a representation of the A matrix which does not store the entries that have a value of 0. One solution is to create a dictionary which contains the indecies and values of non-zero entries for each row (i.e. each node) in our matrix A.\n",
    "\n",
    "With this representation, knowing the indicies of non-zero values in each row (and thus their corresponding index in the importance vector), we can compute the absolute minimum number of multiplications required for each row."
   ]
  },
  {
   "cell_type": "code",
   "execution_count": 28,
   "metadata": {},
   "outputs": [],
   "source": [
    "def create_a_matrix_dict(graph):\n",
    "    \"\"\"Returns a dictionary with keys corresponding to the rows \n",
    "    of the A-matrix and values containing a dict with:\n",
    "    1) 'index': list of indicies of non-zero values in the row\n",
    "    2) 'values': list of non-zero values in the row\n",
    "    \"\"\"\n",
    "    \n",
    "    # Initialize node_dictionary with empty lists for all nodes\n",
    "    node_dictionary = {node: {\"index\": [], \"values\":[]}\n",
    "                       for node in graph.nodes()}\n",
    "    node_list = list(graph.nodes())\n",
    "    \n",
    "    # extract index of all nodes in node_list\n",
    "    node_index = {node: idx for idx, node in enumerate(node_list)}\n",
    "    \n",
    "    # extract out_degree of all nodes\n",
    "    out_degrees = {node: degree for node, degree in graph.out_degree()}\n",
    "    \n",
    "    # loop over each node in the graph\n",
    "    for node in node_list:\n",
    "        # extract all nodes that link to the current node\n",
    "        in_nodes = [origin for origin, dest in graph.in_edges(node)]\n",
    "        \n",
    "        # Find the out-degree of all in_nodes\n",
    "        in_node_degrees = [out_degrees[node_name] for node_name in in_nodes]\n",
    "        \n",
    "        # append indicies and values to the node_dictionary for current node\n",
    "        for idx, n in enumerate(in_nodes):\n",
    "            node_dictionary[node]['index'].append(node_index[n])\n",
    "            node_dictionary[node]['values'].append(1 / in_node_degrees[idx])\n",
    "\n",
    "    return node_dictionary\n",
    "\n",
    "def create_d_matrix_row(graph):\n",
    "    \"\"\"Returns one row of the D matrix as a numpy array\"\"\"\n",
    "    \n",
    "    num_nodes = graph.number_of_nodes()\n",
    "    # use lambda function to return 0 if node has out_degree > 0, else 1/num_nodes\n",
    "    d_value = lambda node_degree: 0 if node_degree[1] > 0 else 1 / num_nodes \n",
    "    # compute one row of D\n",
    "    d_row = [d_value(node_degree) for node_degree in graph.out_degree()]\n",
    "    \n",
    "    return np.array(d_row)\n",
    "\n",
    "\n",
    "def create_s_matrix_row(graph):\n",
    "    \"\"\"Returns one row/column of the S matrix as a numpy array\"\"\"\n",
    "    return np.full(graph.number_of_nodes(), 1 / graph.number_of_nodes())"
   ]
  },
  {
   "cell_type": "code",
   "execution_count": 29,
   "metadata": {},
   "outputs": [],
   "source": [
    "def compute_row(a_matrix_dict, node, imp_vector):\n",
    "    \"\"\"Takes in a node and a dict-representation of the A matrix\n",
    "    computes the dot product of the node's row and the imp. vector\"\"\"\n",
    "    \n",
    "    # exctract dict of non-zero indecies and values for the given node\n",
    "    node_sources = a_matrix_dict[node]\n",
    "    \n",
    "    # compute the sum of the row's non-zero values multiplied\n",
    "    # by their corresponding value in the importance vector\n",
    "    row_sum = sum([value * imp_vector[idx] for value, idx \n",
    "                   in zip(node_sources['values'], node_sources['index'])])\n",
    "        \n",
    "    return row_sum"
   ]
  },
  {
   "cell_type": "code",
   "execution_count": 30,
   "metadata": {},
   "outputs": [],
   "source": [
    "def matrix_multiplication_from_dict(a_matrix_dict, nodes, imp_vector):\n",
    "    \"\"\"Computes the matrix-vector multiplication on a dict-representation \n",
    "    of the A matrix and an importance vector (numpy array).\n",
    "    Returns the result as a numpy array\"\"\"\n",
    "    return np.array([compute_row(a_matrix_dict, node, imp_vector)\n",
    "                     for node in nodes])"
   ]
  },
  {
   "cell_type": "code",
   "execution_count": 31,
   "metadata": {},
   "outputs": [],
   "source": [
    "def run_pr_algorithm_for_large_graph(graph, num_iterations, \n",
    "                                     s_matrix_row, d_matrix_row, a_matrix_dict,\n",
    "                                     m=0.15, print_status=False):\n",
    "    \"\"\"\n",
    "    Runs the optimized PageRank algorithm with a dict-representation of the A matrix\n",
    "    with num_iterations updates of the importance vector.\n",
    "    Returns a mapping between nodes and importance score\n",
    "    \"\"\"\n",
    "    \n",
    "    num_nodes = graph.number_of_nodes()\n",
    "    \n",
    "    # Initialize the importance score with \n",
    "    # equal valus for all pages\n",
    "    nodes = list(graph.nodes())\n",
    "    imp_vector = np.full(num_nodes, 1 / num_nodes)\n",
    "    \n",
    "    # compute the s component\n",
    "    s_component = m * s_matrix_row\n",
    "    \n",
    "    # update imp_vector num_iteration times\n",
    "    for i in range(1, num_iterations+1):\n",
    "        if print_status:\n",
    "            print(\"Computing iteration {} / {}\".format(i, num_iterations))\n",
    "        # compute the component containing the D matrix\n",
    "        d_component = (1 - m) * np.full(num_nodes, d_matrix_row.dot(imp_vector))\n",
    "        # compute the component containing the A matrix\n",
    "        a_component = (1 - m) * matrix_multiplication_from_dict(a_matrix_dict, \n",
    "                                                                nodes, imp_vector)\n",
    "        # update the importance vector\n",
    "        imp_vector = a_component + d_component + s_component\n",
    "\n",
    "    # create mapping between the imp_score vector and nodes\n",
    "    pr_score = {nodes[idx]: pr_score for idx, pr_score in enumerate(imp_vector)}\n",
    "    nx.set_node_attributes(graph, pr_score, name='pr_score')\n",
    "    \n",
    "    return nx.get_node_attributes(graph, 'pr_score')"
   ]
  },
  {
   "cell_type": "markdown",
   "metadata": {},
   "source": [
    "We will start by computing the PageRank for the current graph object to compare runtimes with our previous matrix representation."
   ]
  },
  {
   "cell_type": "code",
   "execution_count": 32,
   "metadata": {},
   "outputs": [],
   "source": [
    "a_matrix_dict = create_a_matrix_dict(G)\n",
    "d_matrix_row = create_d_matrix_row(G)\n",
    "s_matrix_row = create_s_matrix_row(G)"
   ]
  },
  {
   "cell_type": "code",
   "execution_count": 33,
   "metadata": {},
   "outputs": [
    {
     "name": "stdout",
     "output_type": "stream",
     "text": [
      "Running PageRank algorithm for large graphs with 20 iterations on current graph...\n",
      "Runtime: 0.36 seconds\n",
      "\n",
      "Running PageRank algorithm for large graphs with 200 iterations on current graph...\n",
      "Runtime: 3.49 seconds\n",
      "\n"
     ]
    }
   ],
   "source": [
    "print(\"Running PageRank algorithm for large graphs with 20 iterations on current graph...\")\n",
    "start = time.time()\n",
    "pr_large_map = run_pr_algorithm_for_large_graph(G, 20, s_matrix_row, d_matrix_row, \n",
    "                                                a_matrix_dict, 0.15, False)\n",
    "print(\"Runtime: {:.2f} seconds\\n\".format(time.time() - start))\n",
    "\n",
    "print(\"Running PageRank algorithm for large graphs with 200 iterations on current graph...\")\n",
    "start = time.time()\n",
    "pr_large_map  = run_pr_algorithm_for_large_graph(G, 200, s_matrix_row, d_matrix_row, \n",
    "                                                 a_matrix_dict, 0.15, False)\n",
    "print(\"Runtime: {:.2f} seconds\\n\".format(time.time() - start))"
   ]
  },
  {
   "cell_type": "markdown",
   "metadata": {},
   "source": [
    "Evidently, this memory-optimized representation compromizes the run-time, especially at a large number of iterations.\n",
    "\n",
    "\n",
    "It does, however, allow us to compute the PageRank for our large randomly generated graph."
   ]
  },
  {
   "cell_type": "code",
   "execution_count": 34,
   "metadata": {},
   "outputs": [
    {
     "name": "stdout",
     "output_type": "stream",
     "text": [
      "Ready to run PageRank algorithm on large graph\n",
      "Do you want to continue? (y/n): y\n",
      "Loading large graph into NetworkX DiGraph\n",
      "The large graph has 199999 nodes and 10011343 edges\n",
      "\n"
     ]
    }
   ],
   "source": [
    "print(\"Ready to run PageRank algorithm on large graph\")\n",
    "run_on_large_g = input(\"Do you want to continue? (y/n): \")\n",
    "large_G_filename = 'bigRandom.txt'\n",
    "\n",
    "if run_on_large_g.lower() == 'y' and os.path.exists(large_G_filename):\n",
    "    \n",
    "    print(\"Loading large graph into NetworkX DiGraph\")\n",
    "    large_G = load_graph(large_G_filename)\n",
    "    print(\"The large graph has {} nodes and {} edges\\n\"\n",
    "         .format(large_G.number_of_nodes(), large_G.number_of_edges()))\n",
    "\n",
    "elif run_on_large_g.lower() == 'y' and not os.path.exists(large_G_filename):\n",
    "    \n",
    "    print(\"The large graph was not located in current working directory\")\n",
    "    wait = input(\"Please copy the file 'bigRandom.txt' to current working\" +\n",
    "                 \" directory and press enter to continue\")\n",
    "    print(\"Loading large graph into NetworkX DiGraph\")\n",
    "    large_G = load_graph(large_G_filename)\n",
    "    print(\"The large graph has {} nodes and {} edges\\n\"\n",
    "         .format(large_G.number_of_nodes(), large_G.number_of_edges()))\n",
    "\n",
    "else:\n",
    "    print(\"Shutting down... Goodbye\")"
   ]
  },
  {
   "cell_type": "code",
   "execution_count": 35,
   "metadata": {},
   "outputs": [
    {
     "name": "stdout",
     "output_type": "stream",
     "text": [
      "Computing A, D and S matrix representations for large graph\n"
     ]
    }
   ],
   "source": [
    "print(\"Computing A, D and S matrix representations for large graph\")\n",
    "a_matrix_dict = create_a_matrix_dict(large_G)\n",
    "d_matrix_row = create_d_matrix_row(large_G)\n",
    "s_matrix_row = create_s_matrix_row(large_G)"
   ]
  },
  {
   "cell_type": "code",
   "execution_count": 37,
   "metadata": {},
   "outputs": [
    {
     "name": "stdout",
     "output_type": "stream",
     "text": [
      "Running PageRank algorithm for large graphs with 10 iterations on large random graph...\n",
      "Computing iteration 1 / 10\n",
      "Computing iteration 2 / 10\n",
      "Computing iteration 3 / 10\n",
      "Computing iteration 4 / 10\n",
      "Computing iteration 5 / 10\n",
      "Computing iteration 6 / 10\n",
      "Computing iteration 7 / 10\n",
      "Computing iteration 8 / 10\n",
      "Computing iteration 9 / 10\n",
      "Computing iteration 10 / 10\n",
      "Runtime: 52.47 seconds\n",
      "\n"
     ]
    }
   ],
   "source": [
    "print(\"Running PageRank algorithm for large graphs with 10 iterations on large random graph...\")\n",
    "start = time.time()\n",
    "large_graph_mapping = run_pr_algorithm_for_large_graph(large_G, 10, s_matrix_row, d_matrix_row, \n",
    "                                                       a_matrix_dict, 0.15, True)\n",
    "print(\"Runtime: {:.2f} seconds\\n\".format(time.time() - start))"
   ]
  },
  {
   "cell_type": "code",
   "execution_count": 38,
   "metadata": {},
   "outputs": [
    {
     "name": "stdout",
     "output_type": "stream",
     "text": [
      "Top 10 nodes by importance score (decreasing)\n",
      "\n",
      "Node\tScore\n",
      "71291:\t2e-05\n",
      "147744:\t2e-05\n",
      "108755:\t2e-05\n",
      "96819:\t2e-05\n",
      "42326:\t1e-05\n",
      "90973:\t1e-05\n",
      "139555:\t1e-05\n",
      "963:\t1e-05\n",
      "16568:\t1e-05\n",
      "68281:\t1e-05\n",
      "\n",
      "Importance scores sum: 1.0\n",
      "\n"
     ]
    }
   ],
   "source": [
    "print_top_ten(large_graph_mapping)"
   ]
  },
  {
   "cell_type": "markdown",
   "metadata": {},
   "source": [
    "In conclusion, hats off to Google for being able to compute PageRanks in milliseconds for a web of billions of pages :)"
   ]
  }
 ],
 "metadata": {
  "celltoolbar": "Raw Cell Format",
  "kernelspec": {
   "display_name": "Python 3",
   "language": "python",
   "name": "python3"
  },
  "language_info": {
   "codemirror_mode": {
    "name": "ipython",
    "version": 3
   },
   "file_extension": ".py",
   "mimetype": "text/x-python",
   "name": "python",
   "nbconvert_exporter": "python",
   "pygments_lexer": "ipython3",
   "version": "3.7.1"
  },
  "latex_envs": {
   "LaTeX_envs_menu_present": true,
   "autoclose": false,
   "autocomplete": true,
   "bibliofile": "biblio.bib",
   "cite_by": "apalike",
   "current_citInitial": 1,
   "eqLabelWithNumbers": true,
   "eqNumInitial": 1,
   "hotkeys": {
    "equation": "Ctrl-E",
    "itemize": "Ctrl-I"
   },
   "labels_anchors": false,
   "latex_user_defs": false,
   "report_style_numbering": false,
   "user_envs_cfg": false
  }
 },
 "nbformat": 4,
 "nbformat_minor": 2
}
